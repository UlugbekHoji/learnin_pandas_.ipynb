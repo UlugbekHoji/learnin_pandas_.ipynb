a = 56
b = 98
c = a * b 

print(c)
